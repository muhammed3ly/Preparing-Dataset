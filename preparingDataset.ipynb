{
 "cells": [
  {
   "cell_type": "code",
   "execution_count": 1,
   "metadata": {},
   "outputs": [],
   "source": [
    "import os\n",
    "import numpy as np\n",
    "import pandas as pd\n",
    "from scipy.misc import imread\n",
    "import cv2"
   ]
  },
  {
   "cell_type": "code",
   "execution_count": 3,
   "metadata": {},
   "outputs": [],
   "source": [
    "def tost(n):\n",
    "    c = 0\n",
    "    x = n\n",
    "    while x != 0:\n",
    "        x = x // 10\n",
    "        c += 1\n",
    "    if c == 1:\n",
    "        return '00' + str(n)\n",
    "    else:\n",
    "        return '0' + str(n)"
   ]
  },
  {
   "cell_type": "code",
   "execution_count": 9,
   "metadata": {},
   "outputs": [],
   "source": [
    "for i in range(1, 19):\n",
    "    os.mkdir(\"C:/Users/DELL/Desktop/dataset/Side_view/224/\" + str(i))"
   ]
  },
  {
   "cell_type": "code",
   "execution_count": 10,
   "metadata": {},
   "outputs": [
    {
     "name": "stdout",
     "output_type": "stream",
     "text": [
      "1\n",
      "2\n",
      "3\n",
      "4\n",
      "5\n",
      "6\n",
      "7\n",
      "8\n",
      "9\n",
      "10\n",
      "11\n",
      "12\n",
      "13\n",
      "14\n",
      "15\n",
      "16\n",
      "17\n",
      "18\n",
      "19\n",
      "20\n",
      "21\n",
      "22\n",
      "23\n",
      "24\n",
      "25\n",
      "26\n",
      "27\n",
      "28\n",
      "29\n",
      "30\n",
      "31\n",
      "32\n",
      "33\n",
      "34\n",
      "35\n",
      "36\n",
      "37\n",
      "38\n",
      "39\n"
     ]
    }
   ],
   "source": [
    "j = 1\n",
    "i = 0\n",
    "while j <= 39:\n",
    "    print(j)\n",
    "    file = open(\"C:/Users/DELL/Desktop/dataset/Side_view/s_\" + tost(j) + \".txt\",'r')\n",
    "    cap = cv2.VideoCapture(\"C:/Users/DELL/Desktop/dataset/Side_view/s_\" + tost(j) + \".mp4\")\n",
    "    j += 1\n",
    "    abc=0 \n",
    "    fourcc = cv2.VideoWriter_fourcc(*'MP4V')\n",
    "    for line in file : \n",
    "        x,l,r=line.split(',')\n",
    "        l = int(l) - 1\n",
    "        r = int(r) - 1\n",
    "        out = cv2.VideoWriter(\"C:/Users/DELL/Desktop/dataset/Side_view/\"+x+'/s'+str(i)+\".mp4\",fourcc, 30.0, (112,112))\n",
    "        out2 = cv2.VideoWriter(\"C:/Users/DELL/Desktop/dataset/Side_view/224/\"+x+'/s'+str(i)+\".mp4\",fourcc, 30.0, (224,224))\n",
    "        while(abc<=r):\n",
    "            ret,frame=cap.read()\n",
    "            if ret is False : \n",
    "                break\n",
    "            if abc>=l and abc<=r:\n",
    "                frame1=cv2.resize(frame,(112,112))\n",
    "                out.write(frame1)\n",
    "                frame2=cv2.resize(frame,(224,224))\n",
    "                out2.write(frame2)\n",
    "            abc=abc+1\n",
    "        i=i+1\n",
    "    cap.release()\n",
    "out.release()\n",
    "out2.release()\n",
    "cv2.destroyAllWindows()"
   ]
  }
 ],
 "metadata": {
  "kernelspec": {
   "display_name": "Python 3",
   "language": "python",
   "name": "python3"
  },
  "language_info": {
   "codemirror_mode": {
    "name": "ipython",
    "version": 3
   },
   "file_extension": ".py",
   "mimetype": "text/x-python",
   "name": "python",
   "nbconvert_exporter": "python",
   "pygments_lexer": "ipython3",
   "version": "3.7.3"
  }
 },
 "nbformat": 4,
 "nbformat_minor": 2
}
